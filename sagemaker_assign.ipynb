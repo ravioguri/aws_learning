{
 "cells": [
  {
   "cell_type": "code",
   "execution_count": 1,
   "metadata": {},
   "outputs": [],
   "source": [
    "#from sagemaker.local import LocalSession\n",
    "import sagemaker\n",
    "from sagemaker import get_execution_role\n",
    "\n",
    "#sagemaker_session = sagemaker.Session()\n",
    "sagemaker_session = sagemaker.LocalSession()\n",
    "#sagemaker_session.config={'local': {'local_code': True}}\n",
    "\n",
    "\n",
    "# Get a SageMaker-compatible role used by this Notebook Instance.\n",
    "#role = get_execution_role()\n",
    "role = \"arn:aws:iam::961558279552:role/ravindra\"\n",
    "#train_input = 's3://1814-tigerassign1/B/housing.csv'\n",
    "# S3 prefix\n",
    "bucket = sagemaker_session.default_bucket()\n",
    "prefix = 'SkLinearLearner-pipeline'"
   ]
  },
  {
   "cell_type": "code",
   "execution_count": 2,
   "metadata": {},
   "outputs": [],
   "source": [
    "\n",
    "#WORK_DIRECTORY = 'housing_data'\n",
    "WORK_DIRECTORY = '.'\n",
    "\n",
    "train_input = sagemaker_session.upload_data(\n",
    "    path='{}/{}'.format(WORK_DIRECTORY, 'housing.csv'), \n",
    "    bucket=bucket,\n",
    "    key_prefix='{}/{}'.format(prefix, 'train'))"
   ]
  },
  {
   "cell_type": "markdown",
   "metadata": {},
   "source": [
    "# Create SageMaker Scikit Estimator \n"
   ]
  },
  {
   "cell_type": "code",
   "execution_count": 3,
   "metadata": {},
   "outputs": [],
   "source": [
    "from sagemaker.sklearn.estimator import SKLearn\n",
    "\n",
    "FRAMEWORK_VERSION = \"0.23-1\"\n",
    "script_path = './sklearn_pipe1.py'\n",
    "\n",
    "sklearn_preprocessor = SKLearn(\n",
    "    entry_point=script_path,\n",
    "    role=role,\n",
    "    framework_version=FRAMEWORK_VERSION,\n",
    "    instance_type=\"ml.m4.xlarge\",\n",
    "    #instance_type = \"local\",\n",
    "    sagemaker_session=sagemaker_session)\n"
   ]
  },
  {
   "cell_type": "code",
   "execution_count": 4,
   "metadata": {},
   "outputs": [
    {
     "data": {
      "text/plain": [
       "'s3://sagemaker-ap-south-1-961558279552/SkLinearLearner-pipeline/train/housing.csv'"
      ]
     },
     "execution_count": 4,
     "metadata": {},
     "output_type": "execute_result"
    }
   ],
   "source": [
    "train_input"
   ]
  },
  {
   "cell_type": "code",
   "execution_count": 5,
   "metadata": {},
   "outputs": [
    {
     "name": "stdout",
     "output_type": "stream",
     "text": [
      "Creating jsjtnd6tx0-algo-1-0bnyn ... \n",
      "Creating jsjtnd6tx0-algo-1-0bnyn ... done\n",
      "Attaching to jsjtnd6tx0-algo-1-0bnyn\n",
      "\u001b[36mjsjtnd6tx0-algo-1-0bnyn |\u001b[0m 2021-06-14 12:53:59,934 sagemaker-containers INFO     Imported framework sagemaker_sklearn_container.training\n",
      "\u001b[36mjsjtnd6tx0-algo-1-0bnyn |\u001b[0m 2021-06-14 12:53:59,937 sagemaker-training-toolkit INFO     No GPUs detected (normal if no gpus installed)\n",
      "\u001b[36mjsjtnd6tx0-algo-1-0bnyn |\u001b[0m 2021-06-14 12:53:59,949 sagemaker_sklearn_container.training INFO     Invoking user training script.\n",
      "\u001b[36mjsjtnd6tx0-algo-1-0bnyn |\u001b[0m 2021-06-14 12:54:00,506 sagemaker-training-toolkit INFO     No GPUs detected (normal if no gpus installed)\n",
      "\u001b[36mjsjtnd6tx0-algo-1-0bnyn |\u001b[0m 2021-06-14 12:54:00,533 sagemaker-training-toolkit INFO     No GPUs detected (normal if no gpus installed)\n",
      "\u001b[36mjsjtnd6tx0-algo-1-0bnyn |\u001b[0m 2021-06-14 12:54:00,553 sagemaker-training-toolkit INFO     No GPUs detected (normal if no gpus installed)\n",
      "\u001b[36mjsjtnd6tx0-algo-1-0bnyn |\u001b[0m 2021-06-14 12:54:00,567 sagemaker-training-toolkit INFO     Invoking user script\n",
      "\u001b[36mjsjtnd6tx0-algo-1-0bnyn |\u001b[0m \n",
      "\u001b[36mjsjtnd6tx0-algo-1-0bnyn |\u001b[0m Training Env:\n",
      "\u001b[36mjsjtnd6tx0-algo-1-0bnyn |\u001b[0m \n",
      "\u001b[36mjsjtnd6tx0-algo-1-0bnyn |\u001b[0m {\n",
      "\u001b[36mjsjtnd6tx0-algo-1-0bnyn |\u001b[0m     \"additional_framework_parameters\": {},\n",
      "\u001b[36mjsjtnd6tx0-algo-1-0bnyn |\u001b[0m     \"channel_input_dirs\": {\n",
      "\u001b[36mjsjtnd6tx0-algo-1-0bnyn |\u001b[0m         \"train\": \"/opt/ml/input/data/train\"\n",
      "\u001b[36mjsjtnd6tx0-algo-1-0bnyn |\u001b[0m     },\n",
      "\u001b[36mjsjtnd6tx0-algo-1-0bnyn |\u001b[0m     \"current_host\": \"algo-1-0bnyn\",\n",
      "\u001b[36mjsjtnd6tx0-algo-1-0bnyn |\u001b[0m     \"framework_module\": \"sagemaker_sklearn_container.training:main\",\n",
      "\u001b[36mjsjtnd6tx0-algo-1-0bnyn |\u001b[0m     \"hosts\": [\n",
      "\u001b[36mjsjtnd6tx0-algo-1-0bnyn |\u001b[0m         \"algo-1-0bnyn\"\n",
      "\u001b[36mjsjtnd6tx0-algo-1-0bnyn |\u001b[0m     ],\n",
      "\u001b[36mjsjtnd6tx0-algo-1-0bnyn |\u001b[0m     \"hyperparameters\": {},\n",
      "\u001b[36mjsjtnd6tx0-algo-1-0bnyn |\u001b[0m     \"input_config_dir\": \"/opt/ml/input/config\",\n",
      "\u001b[36mjsjtnd6tx0-algo-1-0bnyn |\u001b[0m     \"input_data_config\": {\n",
      "\u001b[36mjsjtnd6tx0-algo-1-0bnyn |\u001b[0m         \"train\": {\n",
      "\u001b[36mjsjtnd6tx0-algo-1-0bnyn |\u001b[0m             \"TrainingInputMode\": \"File\"\n",
      "\u001b[36mjsjtnd6tx0-algo-1-0bnyn |\u001b[0m         }\n",
      "\u001b[36mjsjtnd6tx0-algo-1-0bnyn |\u001b[0m     },\n",
      "\u001b[36mjsjtnd6tx0-algo-1-0bnyn |\u001b[0m     \"input_dir\": \"/opt/ml/input\",\n",
      "\u001b[36mjsjtnd6tx0-algo-1-0bnyn |\u001b[0m     \"is_master\": true,\n",
      "\u001b[36mjsjtnd6tx0-algo-1-0bnyn |\u001b[0m     \"job_name\": \"sagemaker-scikit-learn-2021-06-14-12-53-57-378\",\n",
      "\u001b[36mjsjtnd6tx0-algo-1-0bnyn |\u001b[0m     \"log_level\": 20,\n",
      "\u001b[36mjsjtnd6tx0-algo-1-0bnyn |\u001b[0m     \"master_hostname\": \"algo-1-0bnyn\",\n",
      "\u001b[36mjsjtnd6tx0-algo-1-0bnyn |\u001b[0m     \"model_dir\": \"/opt/ml/model\",\n",
      "\u001b[36mjsjtnd6tx0-algo-1-0bnyn |\u001b[0m     \"module_dir\": \"s3://sagemaker-ap-south-1-961558279552/sagemaker-scikit-learn-2021-06-14-12-53-57-378/source/sourcedir.tar.gz\",\n",
      "\u001b[36mjsjtnd6tx0-algo-1-0bnyn |\u001b[0m     \"module_name\": \"sklearn_pipe1\",\n",
      "\u001b[36mjsjtnd6tx0-algo-1-0bnyn |\u001b[0m     \"network_interface_name\": \"eth0\",\n",
      "\u001b[36mjsjtnd6tx0-algo-1-0bnyn |\u001b[0m     \"num_cpus\": 8,\n",
      "\u001b[36mjsjtnd6tx0-algo-1-0bnyn |\u001b[0m     \"num_gpus\": 0,\n",
      "\u001b[36mjsjtnd6tx0-algo-1-0bnyn |\u001b[0m     \"output_data_dir\": \"/opt/ml/output/data\",\n",
      "\u001b[36mjsjtnd6tx0-algo-1-0bnyn |\u001b[0m     \"output_dir\": \"/opt/ml/output\",\n",
      "\u001b[36mjsjtnd6tx0-algo-1-0bnyn |\u001b[0m     \"output_intermediate_dir\": \"/opt/ml/output/intermediate\",\n",
      "\u001b[36mjsjtnd6tx0-algo-1-0bnyn |\u001b[0m     \"resource_config\": {\n",
      "\u001b[36mjsjtnd6tx0-algo-1-0bnyn |\u001b[0m         \"current_host\": \"algo-1-0bnyn\",\n",
      "\u001b[36mjsjtnd6tx0-algo-1-0bnyn |\u001b[0m         \"hosts\": [\n",
      "\u001b[36mjsjtnd6tx0-algo-1-0bnyn |\u001b[0m             \"algo-1-0bnyn\"\n",
      "\u001b[36mjsjtnd6tx0-algo-1-0bnyn |\u001b[0m         ]\n",
      "\u001b[36mjsjtnd6tx0-algo-1-0bnyn |\u001b[0m     },\n",
      "\u001b[36mjsjtnd6tx0-algo-1-0bnyn |\u001b[0m     \"user_entry_point\": \"sklearn_pipe1.py\"\n",
      "\u001b[36mjsjtnd6tx0-algo-1-0bnyn |\u001b[0m }\n",
      "\u001b[36mjsjtnd6tx0-algo-1-0bnyn |\u001b[0m \n",
      "\u001b[36mjsjtnd6tx0-algo-1-0bnyn |\u001b[0m Environment variables:\n",
      "\u001b[36mjsjtnd6tx0-algo-1-0bnyn |\u001b[0m \n",
      "\u001b[36mjsjtnd6tx0-algo-1-0bnyn |\u001b[0m SM_HOSTS=[\"algo-1-0bnyn\"]\n",
      "\u001b[36mjsjtnd6tx0-algo-1-0bnyn |\u001b[0m SM_NETWORK_INTERFACE_NAME=eth0\n",
      "\u001b[36mjsjtnd6tx0-algo-1-0bnyn |\u001b[0m SM_HPS={}\n",
      "\u001b[36mjsjtnd6tx0-algo-1-0bnyn |\u001b[0m SM_USER_ENTRY_POINT=sklearn_pipe1.py\n",
      "\u001b[36mjsjtnd6tx0-algo-1-0bnyn |\u001b[0m SM_FRAMEWORK_PARAMS={}\n",
      "\u001b[36mjsjtnd6tx0-algo-1-0bnyn |\u001b[0m SM_RESOURCE_CONFIG={\"current_host\":\"algo-1-0bnyn\",\"hosts\":[\"algo-1-0bnyn\"]}\n",
      "\u001b[36mjsjtnd6tx0-algo-1-0bnyn |\u001b[0m SM_INPUT_DATA_CONFIG={\"train\":{\"TrainingInputMode\":\"File\"}}\n",
      "\u001b[36mjsjtnd6tx0-algo-1-0bnyn |\u001b[0m SM_OUTPUT_DATA_DIR=/opt/ml/output/data\n",
      "\u001b[36mjsjtnd6tx0-algo-1-0bnyn |\u001b[0m SM_CHANNELS=[\"train\"]\n",
      "\u001b[36mjsjtnd6tx0-algo-1-0bnyn |\u001b[0m SM_CURRENT_HOST=algo-1-0bnyn\n",
      "\u001b[36mjsjtnd6tx0-algo-1-0bnyn |\u001b[0m SM_MODULE_NAME=sklearn_pipe1\n",
      "\u001b[36mjsjtnd6tx0-algo-1-0bnyn |\u001b[0m SM_LOG_LEVEL=20\n",
      "\u001b[36mjsjtnd6tx0-algo-1-0bnyn |\u001b[0m SM_FRAMEWORK_MODULE=sagemaker_sklearn_container.training:main\n",
      "\u001b[36mjsjtnd6tx0-algo-1-0bnyn |\u001b[0m SM_INPUT_DIR=/opt/ml/input\n",
      "\u001b[36mjsjtnd6tx0-algo-1-0bnyn |\u001b[0m SM_INPUT_CONFIG_DIR=/opt/ml/input/config\n",
      "\u001b[36mjsjtnd6tx0-algo-1-0bnyn |\u001b[0m SM_OUTPUT_DIR=/opt/ml/output\n",
      "\u001b[36mjsjtnd6tx0-algo-1-0bnyn |\u001b[0m SM_NUM_CPUS=8\n",
      "\u001b[36mjsjtnd6tx0-algo-1-0bnyn |\u001b[0m SM_NUM_GPUS=0\n",
      "\u001b[36mjsjtnd6tx0-algo-1-0bnyn |\u001b[0m SM_MODEL_DIR=/opt/ml/model\n",
      "\u001b[36mjsjtnd6tx0-algo-1-0bnyn |\u001b[0m SM_MODULE_DIR=s3://sagemaker-ap-south-1-961558279552/sagemaker-scikit-learn-2021-06-14-12-53-57-378/source/sourcedir.tar.gz\n",
      "\u001b[36mjsjtnd6tx0-algo-1-0bnyn |\u001b[0m SM_TRAINING_ENV={\"additional_framework_parameters\":{},\"channel_input_dirs\":{\"train\":\"/opt/ml/input/data/train\"},\"current_host\":\"algo-1-0bnyn\",\"framework_module\":\"sagemaker_sklearn_container.training:main\",\"hosts\":[\"algo-1-0bnyn\"],\"hyperparameters\":{},\"input_config_dir\":\"/opt/ml/input/config\",\"input_data_config\":{\"train\":{\"TrainingInputMode\":\"File\"}},\"input_dir\":\"/opt/ml/input\",\"is_master\":true,\"job_name\":\"sagemaker-scikit-learn-2021-06-14-12-53-57-378\",\"log_level\":20,\"master_hostname\":\"algo-1-0bnyn\",\"model_dir\":\"/opt/ml/model\",\"module_dir\":\"s3://sagemaker-ap-south-1-961558279552/sagemaker-scikit-learn-2021-06-14-12-53-57-378/source/sourcedir.tar.gz\",\"module_name\":\"sklearn_pipe1\",\"network_interface_name\":\"eth0\",\"num_cpus\":8,\"num_gpus\":0,\"output_data_dir\":\"/opt/ml/output/data\",\"output_dir\":\"/opt/ml/output\",\"output_intermediate_dir\":\"/opt/ml/output/intermediate\",\"resource_config\":{\"current_host\":\"algo-1-0bnyn\",\"hosts\":[\"algo-1-0bnyn\"]},\"user_entry_point\":\"sklearn_pipe1.py\"}\n",
      "\u001b[36mjsjtnd6tx0-algo-1-0bnyn |\u001b[0m SM_USER_ARGS=[]\n",
      "\u001b[36mjsjtnd6tx0-algo-1-0bnyn |\u001b[0m SM_OUTPUT_INTERMEDIATE_DIR=/opt/ml/output/intermediate\n",
      "\u001b[36mjsjtnd6tx0-algo-1-0bnyn |\u001b[0m SM_CHANNEL_TRAIN=/opt/ml/input/data/train\n",
      "\u001b[36mjsjtnd6tx0-algo-1-0bnyn |\u001b[0m PYTHONPATH=/opt/ml/code:/miniconda3/bin:/miniconda3/lib/python37.zip:/miniconda3/lib/python3.7:/miniconda3/lib/python3.7/lib-dynload:/miniconda3/lib/python3.7/site-packages\n",
      "\u001b[36mjsjtnd6tx0-algo-1-0bnyn |\u001b[0m \n",
      "\u001b[36mjsjtnd6tx0-algo-1-0bnyn |\u001b[0m Invoking script with the following command:\n",
      "\u001b[36mjsjtnd6tx0-algo-1-0bnyn |\u001b[0m \n",
      "\u001b[36mjsjtnd6tx0-algo-1-0bnyn |\u001b[0m /miniconda3/bin/python sklearn_pipe1.py\n",
      "\u001b[36mjsjtnd6tx0-algo-1-0bnyn |\u001b[0m \n",
      "\u001b[36mjsjtnd6tx0-algo-1-0bnyn |\u001b[0m \n",
      "\u001b[36mjsjtnd6tx0-algo-1-0bnyn |\u001b[0m Traceback (most recent call last):\n",
      "\u001b[36mjsjtnd6tx0-algo-1-0bnyn |\u001b[0m   File \"pandas/_libs/parsers.pyx\", line 1141, in pandas._libs.parsers.TextReader._convert_tokens\n",
      "\u001b[36mjsjtnd6tx0-algo-1-0bnyn |\u001b[0m TypeError: Cannot cast array data from dtype('O') to dtype('float64') according to the rule 'safe'\n",
      "\u001b[36mjsjtnd6tx0-algo-1-0bnyn |\u001b[0m \n",
      "\u001b[36mjsjtnd6tx0-algo-1-0bnyn |\u001b[0m During handling of the above exception, another exception occurred:\n",
      "\u001b[36mjsjtnd6tx0-algo-1-0bnyn |\u001b[0m \n",
      "\u001b[36mjsjtnd6tx0-algo-1-0bnyn |\u001b[0m Traceback (most recent call last):\n",
      "\u001b[36mjsjtnd6tx0-algo-1-0bnyn |\u001b[0m   File \"sklearn_pipe1.py\", line 82, in <module>\n",
      "\u001b[36mjsjtnd6tx0-algo-1-0bnyn |\u001b[0m     for file in input_files ]\n",
      "\u001b[36mjsjtnd6tx0-algo-1-0bnyn |\u001b[0m   File \"sklearn_pipe1.py\", line 82, in <listcomp>\n",
      "\u001b[36mjsjtnd6tx0-algo-1-0bnyn |\u001b[0m     for file in input_files ]\n",
      "\u001b[36mjsjtnd6tx0-algo-1-0bnyn |\u001b[0m   File \"/miniconda3/lib/python3.7/site-packages/pandas/io/parsers.py\", line 686, in read_csv\n",
      "\u001b[36mjsjtnd6tx0-algo-1-0bnyn |\u001b[0m     return _read(filepath_or_buffer, kwds)\n",
      "\u001b[36mjsjtnd6tx0-algo-1-0bnyn |\u001b[0m   File \"/miniconda3/lib/python3.7/site-packages/pandas/io/parsers.py\", line 458, in _read\n",
      "\u001b[36mjsjtnd6tx0-algo-1-0bnyn |\u001b[0m     data = parser.read(nrows)\n",
      "\u001b[36mjsjtnd6tx0-algo-1-0bnyn |\u001b[0m   File \"/miniconda3/lib/python3.7/site-packages/pandas/io/parsers.py\", line 1196, in read\n",
      "\u001b[36mjsjtnd6tx0-algo-1-0bnyn |\u001b[0m     ret = self._engine.read(nrows)\n",
      "\u001b[36mjsjtnd6tx0-algo-1-0bnyn |\u001b[0m   File \"/miniconda3/lib/python3.7/site-packages/pandas/io/parsers.py\", line 2155, in read\n",
      "\u001b[36mjsjtnd6tx0-algo-1-0bnyn |\u001b[0m     data = self._reader.read(nrows)\n",
      "\u001b[36mjsjtnd6tx0-algo-1-0bnyn |\u001b[0m   File \"pandas/_libs/parsers.pyx\", line 847, in pandas._libs.parsers.TextReader.read\n",
      "\u001b[36mjsjtnd6tx0-algo-1-0bnyn |\u001b[0m   File \"pandas/_libs/parsers.pyx\", line 862, in pandas._libs.parsers.TextReader._read_low_memory\n",
      "\u001b[36mjsjtnd6tx0-algo-1-0bnyn |\u001b[0m   File \"pandas/_libs/parsers.pyx\", line 941, in pandas._libs.parsers.TextReader._read_rows\n",
      "\u001b[36mjsjtnd6tx0-algo-1-0bnyn |\u001b[0m   File \"pandas/_libs/parsers.pyx\", line 1073, in pandas._libs.parsers.TextReader._convert_column_data\n",
      "\u001b[36mjsjtnd6tx0-algo-1-0bnyn |\u001b[0m   File \"pandas/_libs/parsers.pyx\", line 1147, in pandas._libs.parsers.TextReader._convert_tokens\n",
      "\u001b[36mjsjtnd6tx0-algo-1-0bnyn |\u001b[0m ValueError: could not convert string to float: 'NEAR BAY'\n",
      "\u001b[36mjsjtnd6tx0-algo-1-0bnyn |\u001b[0m 2021-06-14 12:54:01,888 sagemaker-containers ERROR    Reporting training FAILURE\n",
      "\u001b[36mjsjtnd6tx0-algo-1-0bnyn |\u001b[0m 2021-06-14 12:54:01,888 sagemaker-containers ERROR    framework error: \n",
      "\u001b[36mjsjtnd6tx0-algo-1-0bnyn |\u001b[0m Traceback (most recent call last):\n",
      "\u001b[36mjsjtnd6tx0-algo-1-0bnyn |\u001b[0m   File \"/miniconda3/lib/python3.7/site-packages/sagemaker_containers/_trainer.py\", line 84, in train\n",
      "\u001b[36mjsjtnd6tx0-algo-1-0bnyn |\u001b[0m     entrypoint()\n",
      "\u001b[36mjsjtnd6tx0-algo-1-0bnyn |\u001b[0m   File \"/miniconda3/lib/python3.7/site-packages/sagemaker_sklearn_container/training.py\", line 39, in main\n",
      "\u001b[36mjsjtnd6tx0-algo-1-0bnyn |\u001b[0m     train(environment.Environment())\n",
      "\u001b[36mjsjtnd6tx0-algo-1-0bnyn |\u001b[0m   File \"/miniconda3/lib/python3.7/site-packages/sagemaker_sklearn_container/training.py\", line 35, in train\n",
      "\u001b[36mjsjtnd6tx0-algo-1-0bnyn |\u001b[0m     runner_type=runner.ProcessRunnerType)\n",
      "\u001b[36mjsjtnd6tx0-algo-1-0bnyn |\u001b[0m   File \"/miniconda3/lib/python3.7/site-packages/sagemaker_training/entry_point.py\", line 100, in run\n",
      "\u001b[36mjsjtnd6tx0-algo-1-0bnyn |\u001b[0m     wait, capture_error\n",
      "\u001b[36mjsjtnd6tx0-algo-1-0bnyn |\u001b[0m   File \"/miniconda3/lib/python3.7/site-packages/sagemaker_training/process.py\", line 161, in run\n",
      "\u001b[36mjsjtnd6tx0-algo-1-0bnyn |\u001b[0m     cwd=environment.code_dir,\n",
      "\u001b[36mjsjtnd6tx0-algo-1-0bnyn |\u001b[0m   File \"/miniconda3/lib/python3.7/site-packages/sagemaker_training/process.py\", line 81, in check_error\n",
      "\u001b[36mjsjtnd6tx0-algo-1-0bnyn |\u001b[0m     raise error_class(return_code=return_code, cmd=\" \".join(cmd), output=stderr)\n",
      "\u001b[36mjsjtnd6tx0-algo-1-0bnyn |\u001b[0m sagemaker_training.errors.ExecuteUserScriptError: ExecuteUserScriptError:\n",
      "\u001b[36mjsjtnd6tx0-algo-1-0bnyn |\u001b[0m Command \"/miniconda3/bin/python sklearn_pipe1.py\"\n",
      "\u001b[36mjsjtnd6tx0-algo-1-0bnyn |\u001b[0m \n",
      "\u001b[36mjsjtnd6tx0-algo-1-0bnyn |\u001b[0m ExecuteUserScriptError:\n",
      "\u001b[36mjsjtnd6tx0-algo-1-0bnyn |\u001b[0m Command \"/miniconda3/bin/python sklearn_pipe1.py\"\n",
      "\u001b[36mjsjtnd6tx0-algo-1-0bnyn exited with code 1\n",
      "\u001b[0m1\n",
      "Aborting on container exit...\n"
     ]
    },
    {
     "ename": "RuntimeError",
     "evalue": "Failed to run: ['docker-compose', '-f', '/tmp/tmpua_dtstm/docker-compose.yaml', 'up', '--build', '--abort-on-container-exit'], Process exited with code: 1",
     "output_type": "error",
     "traceback": [
      "\u001b[0;31m---------------------------------------------------------------------------\u001b[0m",
      "\u001b[0;31mRuntimeError\u001b[0m                              Traceback (most recent call last)",
      "\u001b[0;32m~/miniconda3/lib/python3.6/site-packages/sagemaker/local/image.py\u001b[0m in \u001b[0;36mtrain\u001b[0;34m(self, input_data_config, output_data_config, hyperparameters, job_name)\u001b[0m\n\u001b[1;32m    237\u001b[0m         \u001b[0;32mtry\u001b[0m\u001b[0;34m:\u001b[0m\u001b[0;34m\u001b[0m\u001b[0;34m\u001b[0m\u001b[0m\n\u001b[0;32m--> 238\u001b[0;31m             \u001b[0m_stream_output\u001b[0m\u001b[0;34m(\u001b[0m\u001b[0mprocess\u001b[0m\u001b[0;34m)\u001b[0m\u001b[0;34m\u001b[0m\u001b[0;34m\u001b[0m\u001b[0m\n\u001b[0m\u001b[1;32m    239\u001b[0m         \u001b[0;32mexcept\u001b[0m \u001b[0mRuntimeError\u001b[0m \u001b[0;32mas\u001b[0m \u001b[0me\u001b[0m\u001b[0;34m:\u001b[0m\u001b[0;34m\u001b[0m\u001b[0;34m\u001b[0m\u001b[0m\n",
      "\u001b[0;32m~/miniconda3/lib/python3.6/site-packages/sagemaker/local/image.py\u001b[0m in \u001b[0;36m_stream_output\u001b[0;34m(process)\u001b[0m\n\u001b[1;32m    893\u001b[0m     \u001b[0;32mif\u001b[0m \u001b[0mexit_code\u001b[0m \u001b[0;34m!=\u001b[0m \u001b[0;36m0\u001b[0m\u001b[0;34m:\u001b[0m\u001b[0;34m\u001b[0m\u001b[0;34m\u001b[0m\u001b[0m\n\u001b[0;32m--> 894\u001b[0;31m         \u001b[0;32mraise\u001b[0m \u001b[0mRuntimeError\u001b[0m\u001b[0;34m(\u001b[0m\u001b[0;34m\"Process exited with code: %s\"\u001b[0m \u001b[0;34m%\u001b[0m \u001b[0mexit_code\u001b[0m\u001b[0;34m)\u001b[0m\u001b[0;34m\u001b[0m\u001b[0;34m\u001b[0m\u001b[0m\n\u001b[0m\u001b[1;32m    895\u001b[0m \u001b[0;34m\u001b[0m\u001b[0m\n",
      "\u001b[0;31mRuntimeError\u001b[0m: Process exited with code: 1",
      "\nDuring handling of the above exception, another exception occurred:\n",
      "\u001b[0;31mRuntimeError\u001b[0m                              Traceback (most recent call last)",
      "\u001b[0;32m<ipython-input-5-0a4ae84cd8f9>\u001b[0m in \u001b[0;36m<module>\u001b[0;34m\u001b[0m\n\u001b[0;32m----> 1\u001b[0;31m \u001b[0msklearn_preprocessor\u001b[0m\u001b[0;34m.\u001b[0m\u001b[0mfit\u001b[0m\u001b[0;34m(\u001b[0m\u001b[0;34m{\u001b[0m\u001b[0;34m'train'\u001b[0m\u001b[0;34m:\u001b[0m \u001b[0mtrain_input\u001b[0m\u001b[0;34m}\u001b[0m\u001b[0;34m)\u001b[0m\u001b[0;34m\u001b[0m\u001b[0;34m\u001b[0m\u001b[0m\n\u001b[0m",
      "\u001b[0;32m~/miniconda3/lib/python3.6/site-packages/sagemaker/estimator.py\u001b[0m in \u001b[0;36mfit\u001b[0;34m(self, inputs, wait, logs, job_name, experiment_config)\u001b[0m\n\u001b[1;32m    677\u001b[0m         \u001b[0mself\u001b[0m\u001b[0;34m.\u001b[0m\u001b[0m_prepare_for_training\u001b[0m\u001b[0;34m(\u001b[0m\u001b[0mjob_name\u001b[0m\u001b[0;34m=\u001b[0m\u001b[0mjob_name\u001b[0m\u001b[0;34m)\u001b[0m\u001b[0;34m\u001b[0m\u001b[0;34m\u001b[0m\u001b[0m\n\u001b[1;32m    678\u001b[0m \u001b[0;34m\u001b[0m\u001b[0m\n\u001b[0;32m--> 679\u001b[0;31m         \u001b[0mself\u001b[0m\u001b[0;34m.\u001b[0m\u001b[0mlatest_training_job\u001b[0m \u001b[0;34m=\u001b[0m \u001b[0m_TrainingJob\u001b[0m\u001b[0;34m.\u001b[0m\u001b[0mstart_new\u001b[0m\u001b[0;34m(\u001b[0m\u001b[0mself\u001b[0m\u001b[0;34m,\u001b[0m \u001b[0minputs\u001b[0m\u001b[0;34m,\u001b[0m \u001b[0mexperiment_config\u001b[0m\u001b[0;34m)\u001b[0m\u001b[0;34m\u001b[0m\u001b[0;34m\u001b[0m\u001b[0m\n\u001b[0m\u001b[1;32m    680\u001b[0m         \u001b[0mself\u001b[0m\u001b[0;34m.\u001b[0m\u001b[0mjobs\u001b[0m\u001b[0;34m.\u001b[0m\u001b[0mappend\u001b[0m\u001b[0;34m(\u001b[0m\u001b[0mself\u001b[0m\u001b[0;34m.\u001b[0m\u001b[0mlatest_training_job\u001b[0m\u001b[0;34m)\u001b[0m\u001b[0;34m\u001b[0m\u001b[0;34m\u001b[0m\u001b[0m\n\u001b[1;32m    681\u001b[0m         \u001b[0;32mif\u001b[0m \u001b[0mwait\u001b[0m\u001b[0;34m:\u001b[0m\u001b[0;34m\u001b[0m\u001b[0;34m\u001b[0m\u001b[0m\n",
      "\u001b[0;32m~/miniconda3/lib/python3.6/site-packages/sagemaker/estimator.py\u001b[0m in \u001b[0;36mstart_new\u001b[0;34m(cls, estimator, inputs, experiment_config)\u001b[0m\n\u001b[1;32m   1447\u001b[0m         \"\"\"\n\u001b[1;32m   1448\u001b[0m         \u001b[0mtrain_args\u001b[0m \u001b[0;34m=\u001b[0m \u001b[0mcls\u001b[0m\u001b[0;34m.\u001b[0m\u001b[0m_get_train_args\u001b[0m\u001b[0;34m(\u001b[0m\u001b[0mestimator\u001b[0m\u001b[0;34m,\u001b[0m \u001b[0minputs\u001b[0m\u001b[0;34m,\u001b[0m \u001b[0mexperiment_config\u001b[0m\u001b[0;34m)\u001b[0m\u001b[0;34m\u001b[0m\u001b[0;34m\u001b[0m\u001b[0m\n\u001b[0;32m-> 1449\u001b[0;31m         \u001b[0mestimator\u001b[0m\u001b[0;34m.\u001b[0m\u001b[0msagemaker_session\u001b[0m\u001b[0;34m.\u001b[0m\u001b[0mtrain\u001b[0m\u001b[0;34m(\u001b[0m\u001b[0;34m**\u001b[0m\u001b[0mtrain_args\u001b[0m\u001b[0;34m)\u001b[0m\u001b[0;34m\u001b[0m\u001b[0;34m\u001b[0m\u001b[0m\n\u001b[0m\u001b[1;32m   1450\u001b[0m \u001b[0;34m\u001b[0m\u001b[0m\n\u001b[1;32m   1451\u001b[0m         \u001b[0;32mreturn\u001b[0m \u001b[0mcls\u001b[0m\u001b[0;34m(\u001b[0m\u001b[0mestimator\u001b[0m\u001b[0;34m.\u001b[0m\u001b[0msagemaker_session\u001b[0m\u001b[0;34m,\u001b[0m \u001b[0mestimator\u001b[0m\u001b[0;34m.\u001b[0m\u001b[0m_current_job_name\u001b[0m\u001b[0;34m)\u001b[0m\u001b[0;34m\u001b[0m\u001b[0;34m\u001b[0m\u001b[0m\n",
      "\u001b[0;32m~/miniconda3/lib/python3.6/site-packages/sagemaker/session.py\u001b[0m in \u001b[0;36mtrain\u001b[0;34m(self, input_mode, input_config, role, job_name, output_config, resource_config, vpc_config, hyperparameters, stop_condition, tags, metric_definitions, enable_network_isolation, image_uri, algorithm_arn, encrypt_inter_container_traffic, use_spot_instances, checkpoint_s3_uri, checkpoint_local_path, experiment_config, debugger_rule_configs, debugger_hook_config, tensorboard_output_config, enable_sagemaker_metrics, profiler_rule_configs, profiler_config, environment, retry_strategy)\u001b[0m\n\u001b[1;32m    570\u001b[0m         \u001b[0mLOGGER\u001b[0m\u001b[0;34m.\u001b[0m\u001b[0minfo\u001b[0m\u001b[0;34m(\u001b[0m\u001b[0;34m\"Creating training-job with name: %s\"\u001b[0m\u001b[0;34m,\u001b[0m \u001b[0mjob_name\u001b[0m\u001b[0;34m)\u001b[0m\u001b[0;34m\u001b[0m\u001b[0;34m\u001b[0m\u001b[0m\n\u001b[1;32m    571\u001b[0m         \u001b[0mLOGGER\u001b[0m\u001b[0;34m.\u001b[0m\u001b[0mdebug\u001b[0m\u001b[0;34m(\u001b[0m\u001b[0;34m\"train request: %s\"\u001b[0m\u001b[0;34m,\u001b[0m \u001b[0mjson\u001b[0m\u001b[0;34m.\u001b[0m\u001b[0mdumps\u001b[0m\u001b[0;34m(\u001b[0m\u001b[0mtrain_request\u001b[0m\u001b[0;34m,\u001b[0m \u001b[0mindent\u001b[0m\u001b[0;34m=\u001b[0m\u001b[0;36m4\u001b[0m\u001b[0;34m)\u001b[0m\u001b[0;34m)\u001b[0m\u001b[0;34m\u001b[0m\u001b[0;34m\u001b[0m\u001b[0m\n\u001b[0;32m--> 572\u001b[0;31m         \u001b[0mself\u001b[0m\u001b[0;34m.\u001b[0m\u001b[0msagemaker_client\u001b[0m\u001b[0;34m.\u001b[0m\u001b[0mcreate_training_job\u001b[0m\u001b[0;34m(\u001b[0m\u001b[0;34m**\u001b[0m\u001b[0mtrain_request\u001b[0m\u001b[0;34m)\u001b[0m\u001b[0;34m\u001b[0m\u001b[0;34m\u001b[0m\u001b[0m\n\u001b[0m\u001b[1;32m    573\u001b[0m \u001b[0;34m\u001b[0m\u001b[0m\n\u001b[1;32m    574\u001b[0m     def _get_train_request(  # noqa: C901\n",
      "\u001b[0;32m~/miniconda3/lib/python3.6/site-packages/sagemaker/local/local_session.py\u001b[0m in \u001b[0;36mcreate_training_job\u001b[0;34m(self, TrainingJobName, AlgorithmSpecification, OutputDataConfig, ResourceConfig, InputDataConfig, **kwargs)\u001b[0m\n\u001b[1;32m    184\u001b[0m         \u001b[0mhyperparameters\u001b[0m \u001b[0;34m=\u001b[0m \u001b[0mkwargs\u001b[0m\u001b[0;34m[\u001b[0m\u001b[0;34m\"HyperParameters\"\u001b[0m\u001b[0;34m]\u001b[0m \u001b[0;32mif\u001b[0m \u001b[0;34m\"HyperParameters\"\u001b[0m \u001b[0;32min\u001b[0m \u001b[0mkwargs\u001b[0m \u001b[0;32melse\u001b[0m \u001b[0;34m{\u001b[0m\u001b[0;34m}\u001b[0m\u001b[0;34m\u001b[0m\u001b[0;34m\u001b[0m\u001b[0m\n\u001b[1;32m    185\u001b[0m         \u001b[0mlogger\u001b[0m\u001b[0;34m.\u001b[0m\u001b[0minfo\u001b[0m\u001b[0;34m(\u001b[0m\u001b[0;34m\"Starting training job\"\u001b[0m\u001b[0;34m)\u001b[0m\u001b[0;34m\u001b[0m\u001b[0;34m\u001b[0m\u001b[0m\n\u001b[0;32m--> 186\u001b[0;31m         \u001b[0mtraining_job\u001b[0m\u001b[0;34m.\u001b[0m\u001b[0mstart\u001b[0m\u001b[0;34m(\u001b[0m\u001b[0mInputDataConfig\u001b[0m\u001b[0;34m,\u001b[0m \u001b[0mOutputDataConfig\u001b[0m\u001b[0;34m,\u001b[0m \u001b[0mhyperparameters\u001b[0m\u001b[0;34m,\u001b[0m \u001b[0mTrainingJobName\u001b[0m\u001b[0;34m)\u001b[0m\u001b[0;34m\u001b[0m\u001b[0;34m\u001b[0m\u001b[0m\n\u001b[0m\u001b[1;32m    187\u001b[0m \u001b[0;34m\u001b[0m\u001b[0m\n\u001b[1;32m    188\u001b[0m         \u001b[0mLocalSagemakerClient\u001b[0m\u001b[0;34m.\u001b[0m\u001b[0m_training_jobs\u001b[0m\u001b[0;34m[\u001b[0m\u001b[0mTrainingJobName\u001b[0m\u001b[0;34m]\u001b[0m \u001b[0;34m=\u001b[0m \u001b[0mtraining_job\u001b[0m\u001b[0;34m\u001b[0m\u001b[0;34m\u001b[0m\u001b[0m\n",
      "\u001b[0;32m~/miniconda3/lib/python3.6/site-packages/sagemaker/local/entities.py\u001b[0m in \u001b[0;36mstart\u001b[0;34m(self, input_data_config, output_data_config, hyperparameters, job_name)\u001b[0m\n\u001b[1;32m    219\u001b[0m \u001b[0;34m\u001b[0m\u001b[0m\n\u001b[1;32m    220\u001b[0m         self.model_artifacts = self.container.train(\n\u001b[0;32m--> 221\u001b[0;31m             \u001b[0minput_data_config\u001b[0m\u001b[0;34m,\u001b[0m \u001b[0moutput_data_config\u001b[0m\u001b[0;34m,\u001b[0m \u001b[0mhyperparameters\u001b[0m\u001b[0;34m,\u001b[0m \u001b[0mjob_name\u001b[0m\u001b[0;34m\u001b[0m\u001b[0;34m\u001b[0m\u001b[0m\n\u001b[0m\u001b[1;32m    222\u001b[0m         )\n\u001b[1;32m    223\u001b[0m         \u001b[0mself\u001b[0m\u001b[0;34m.\u001b[0m\u001b[0mend_time\u001b[0m \u001b[0;34m=\u001b[0m \u001b[0mdatetime\u001b[0m\u001b[0;34m.\u001b[0m\u001b[0mdatetime\u001b[0m\u001b[0;34m.\u001b[0m\u001b[0mnow\u001b[0m\u001b[0;34m(\u001b[0m\u001b[0;34m)\u001b[0m\u001b[0;34m\u001b[0m\u001b[0;34m\u001b[0m\u001b[0m\n",
      "\u001b[0;32m~/miniconda3/lib/python3.6/site-packages/sagemaker/local/image.py\u001b[0m in \u001b[0;36mtrain\u001b[0;34m(self, input_data_config, output_data_config, hyperparameters, job_name)\u001b[0m\n\u001b[1;32m    241\u001b[0m             \u001b[0;31m# which contains the exit code and append the command line to it.\u001b[0m\u001b[0;34m\u001b[0m\u001b[0;34m\u001b[0m\u001b[0;34m\u001b[0m\u001b[0m\n\u001b[1;32m    242\u001b[0m             \u001b[0mmsg\u001b[0m \u001b[0;34m=\u001b[0m \u001b[0;34m\"Failed to run: %s, %s\"\u001b[0m \u001b[0;34m%\u001b[0m \u001b[0;34m(\u001b[0m\u001b[0mcompose_command\u001b[0m\u001b[0;34m,\u001b[0m \u001b[0mstr\u001b[0m\u001b[0;34m(\u001b[0m\u001b[0me\u001b[0m\u001b[0;34m)\u001b[0m\u001b[0;34m)\u001b[0m\u001b[0;34m\u001b[0m\u001b[0;34m\u001b[0m\u001b[0m\n\u001b[0;32m--> 243\u001b[0;31m             \u001b[0;32mraise\u001b[0m \u001b[0mRuntimeError\u001b[0m\u001b[0;34m(\u001b[0m\u001b[0mmsg\u001b[0m\u001b[0;34m)\u001b[0m\u001b[0;34m\u001b[0m\u001b[0;34m\u001b[0m\u001b[0m\n\u001b[0m\u001b[1;32m    244\u001b[0m         \u001b[0;32mfinally\u001b[0m\u001b[0;34m:\u001b[0m\u001b[0;34m\u001b[0m\u001b[0;34m\u001b[0m\u001b[0m\n\u001b[1;32m    245\u001b[0m             \u001b[0martifacts\u001b[0m \u001b[0;34m=\u001b[0m \u001b[0mself\u001b[0m\u001b[0;34m.\u001b[0m\u001b[0mretrieve_artifacts\u001b[0m\u001b[0;34m(\u001b[0m\u001b[0mcompose_data\u001b[0m\u001b[0;34m,\u001b[0m \u001b[0moutput_data_config\u001b[0m\u001b[0;34m,\u001b[0m \u001b[0mjob_name\u001b[0m\u001b[0;34m)\u001b[0m\u001b[0;34m\u001b[0m\u001b[0;34m\u001b[0m\u001b[0m\n",
      "\u001b[0;31mRuntimeError\u001b[0m: Failed to run: ['docker-compose', '-f', '/tmp/tmpua_dtstm/docker-compose.yaml', 'up', '--build', '--abort-on-container-exit'], Process exited with code: 1"
     ]
    }
   ],
   "source": [
    "sklearn_preprocessor.fit({'train': train_input})"
   ]
  },
  {
   "cell_type": "markdown",
   "metadata": {},
   "source": [
    "# Batch transform our training data "
   ]
  },
  {
   "cell_type": "code",
   "execution_count": null,
   "metadata": {},
   "outputs": [],
   "source": [
    "# Define a SKLearn Transformer from the trained SKLearn Estimator\n",
    "transformer = sklearn_preprocessor.transformer(\n",
    "    instance_count=1, \n",
    "    instance_type='ml.m4.xlarge',\n",
    "    #instance_type='local',\n",
    "    assemble_with = 'Line',\n",
    "    accept = 'text/csv')"
   ]
  },
  {
   "cell_type": "code",
   "execution_count": null,
   "metadata": {},
   "outputs": [],
   "source": [
    "\n",
    "# Preprocess training input\n",
    "transformer.transform(train_input, content_type=\"text/csv\")\n",
    "print(\"Waiting for transform job: \" + transformer.latest_transform_job.job_name)\n",
    "transformer.wait()\n",
    "preprocessed_train = transformer.output_path"
   ]
  },
  {
   "cell_type": "markdown",
   "metadata": {},
   "source": [
    "# Serial Inference Pipeline with Scikit preprocessor and Linear Learner\n"
   ]
  },
  {
   "cell_type": "code",
   "execution_count": null,
   "metadata": {},
   "outputs": [],
   "source": [
    "from sagemaker.model import Model\n",
    "from sagemaker.pipeline import PipelineModel\n",
    "import boto3\n",
    "from time import gmtime, strftime\n",
    "\n",
    "timestamp_prefix = strftime(\"%Y-%m-%d-%H-%M-%S\", gmtime())\n",
    "\n",
    "scikit_learn_inference_model = sklearn_preprocessor.create_model()\n",
    "\n",
    "model_name = 'inference-pipeline-' + timestamp_prefix\n",
    "endpoint_name = 'inference-pipeline-ep-' + timestamp_prefix\n",
    "\n",
    "\n",
    "scikit_learn_inference_model.deploy(initial_instance_count=1, instance_type='ml.m4.xlarge', endpoint_name=endpoint_name)"
   ]
  },
  {
   "cell_type": "markdown",
   "metadata": {},
   "source": [
    "# Make a request to our pipeline endpoint\n"
   ]
  },
  {
   "cell_type": "code",
   "execution_count": null,
   "metadata": {},
   "outputs": [],
   "source": [
    "\n",
    "from sagemaker.predictor import Predictor\n",
    "from sagemaker.serializers import CSVSerializer\n",
    "\n",
    "payload = '-122.23,37.88,41.0,880.0,129.0,322.0,126.0,8.3252,NEAR BAY,452600.0'\n",
    "actual_rings = 10\n",
    "predictor = Predictor(\n",
    "    endpoint_name=endpoint_name,\n",
    "    sagemaker_session=sagemaker_session,\n",
    "    serializer=CSVSerializer())\n",
    "\n",
    "print(predictor.predict(payload))"
   ]
  },
  {
   "cell_type": "markdown",
   "metadata": {},
   "source": [
    "# Delete Endpoint"
   ]
  },
  {
   "cell_type": "code",
   "execution_count": null,
   "metadata": {},
   "outputs": [],
   "source": [
    "\n",
    "sm_client = sagemaker_session.boto_session.client('sagemaker')\n",
    "sm_client.delete_endpoint(EndpointName=endpoint_name)"
   ]
  },
  {
   "cell_type": "raw",
   "metadata": {},
   "source": [
    "import sklearn as sk"
   ]
  },
  {
   "cell_type": "code",
   "execution_count": null,
   "metadata": {},
   "outputs": [],
   "source": []
  }
 ],
 "metadata": {
  "kernelspec": {
   "display_name": "Python 3",
   "language": "python",
   "name": "python3"
  },
  "language_info": {
   "codemirror_mode": {
    "name": "ipython",
    "version": 3
   },
   "file_extension": ".py",
   "mimetype": "text/x-python",
   "name": "python",
   "nbconvert_exporter": "python",
   "pygments_lexer": "ipython3",
   "version": "3.6.13"
  }
 },
 "nbformat": 4,
 "nbformat_minor": 4
}
